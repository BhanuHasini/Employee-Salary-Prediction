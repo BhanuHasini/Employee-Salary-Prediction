{
  "cells": [
    {
      "cell_type": "code",
      "source": [
        "from google.colab import files\n",
        "uploaded = files.upload()\n",
        "df = pd.read_csv(\"adult 3.csv\")"
      ],
      "metadata": {
        "colab": {
          "base_uri": "https://localhost:8080/",
          "height": 73
        },
        "id": "8o2rr0lMcPBq",
        "outputId": "681211a1-f0eb-4dc7-f975-ad0b43e2d4b1"
      },
      "execution_count": 2,
      "outputs": [
        {
          "output_type": "display_data",
          "data": {
            "text/plain": [
              "<IPython.core.display.HTML object>"
            ],
            "text/html": [
              "\n",
              "     <input type=\"file\" id=\"files-89ddf9e1-a2c4-4500-9e4b-e0a80b0b806f\" name=\"files[]\" multiple disabled\n",
              "        style=\"border:none\" />\n",
              "     <output id=\"result-89ddf9e1-a2c4-4500-9e4b-e0a80b0b806f\">\n",
              "      Upload widget is only available when the cell has been executed in the\n",
              "      current browser session. Please rerun this cell to enable.\n",
              "      </output>\n",
              "      <script>// Copyright 2017 Google LLC\n",
              "//\n",
              "// Licensed under the Apache License, Version 2.0 (the \"License\");\n",
              "// you may not use this file except in compliance with the License.\n",
              "// You may obtain a copy of the License at\n",
              "//\n",
              "//      http://www.apache.org/licenses/LICENSE-2.0\n",
              "//\n",
              "// Unless required by applicable law or agreed to in writing, software\n",
              "// distributed under the License is distributed on an \"AS IS\" BASIS,\n",
              "// WITHOUT WARRANTIES OR CONDITIONS OF ANY KIND, either express or implied.\n",
              "// See the License for the specific language governing permissions and\n",
              "// limitations under the License.\n",
              "\n",
              "/**\n",
              " * @fileoverview Helpers for google.colab Python module.\n",
              " */\n",
              "(function(scope) {\n",
              "function span(text, styleAttributes = {}) {\n",
              "  const element = document.createElement('span');\n",
              "  element.textContent = text;\n",
              "  for (const key of Object.keys(styleAttributes)) {\n",
              "    element.style[key] = styleAttributes[key];\n",
              "  }\n",
              "  return element;\n",
              "}\n",
              "\n",
              "// Max number of bytes which will be uploaded at a time.\n",
              "const MAX_PAYLOAD_SIZE = 100 * 1024;\n",
              "\n",
              "function _uploadFiles(inputId, outputId) {\n",
              "  const steps = uploadFilesStep(inputId, outputId);\n",
              "  const outputElement = document.getElementById(outputId);\n",
              "  // Cache steps on the outputElement to make it available for the next call\n",
              "  // to uploadFilesContinue from Python.\n",
              "  outputElement.steps = steps;\n",
              "\n",
              "  return _uploadFilesContinue(outputId);\n",
              "}\n",
              "\n",
              "// This is roughly an async generator (not supported in the browser yet),\n",
              "// where there are multiple asynchronous steps and the Python side is going\n",
              "// to poll for completion of each step.\n",
              "// This uses a Promise to block the python side on completion of each step,\n",
              "// then passes the result of the previous step as the input to the next step.\n",
              "function _uploadFilesContinue(outputId) {\n",
              "  const outputElement = document.getElementById(outputId);\n",
              "  const steps = outputElement.steps;\n",
              "\n",
              "  const next = steps.next(outputElement.lastPromiseValue);\n",
              "  return Promise.resolve(next.value.promise).then((value) => {\n",
              "    // Cache the last promise value to make it available to the next\n",
              "    // step of the generator.\n",
              "    outputElement.lastPromiseValue = value;\n",
              "    return next.value.response;\n",
              "  });\n",
              "}\n",
              "\n",
              "/**\n",
              " * Generator function which is called between each async step of the upload\n",
              " * process.\n",
              " * @param {string} inputId Element ID of the input file picker element.\n",
              " * @param {string} outputId Element ID of the output display.\n",
              " * @return {!Iterable<!Object>} Iterable of next steps.\n",
              " */\n",
              "function* uploadFilesStep(inputId, outputId) {\n",
              "  const inputElement = document.getElementById(inputId);\n",
              "  inputElement.disabled = false;\n",
              "\n",
              "  const outputElement = document.getElementById(outputId);\n",
              "  outputElement.innerHTML = '';\n",
              "\n",
              "  const pickedPromise = new Promise((resolve) => {\n",
              "    inputElement.addEventListener('change', (e) => {\n",
              "      resolve(e.target.files);\n",
              "    });\n",
              "  });\n",
              "\n",
              "  const cancel = document.createElement('button');\n",
              "  inputElement.parentElement.appendChild(cancel);\n",
              "  cancel.textContent = 'Cancel upload';\n",
              "  const cancelPromise = new Promise((resolve) => {\n",
              "    cancel.onclick = () => {\n",
              "      resolve(null);\n",
              "    };\n",
              "  });\n",
              "\n",
              "  // Wait for the user to pick the files.\n",
              "  const files = yield {\n",
              "    promise: Promise.race([pickedPromise, cancelPromise]),\n",
              "    response: {\n",
              "      action: 'starting',\n",
              "    }\n",
              "  };\n",
              "\n",
              "  cancel.remove();\n",
              "\n",
              "  // Disable the input element since further picks are not allowed.\n",
              "  inputElement.disabled = true;\n",
              "\n",
              "  if (!files) {\n",
              "    return {\n",
              "      response: {\n",
              "        action: 'complete',\n",
              "      }\n",
              "    };\n",
              "  }\n",
              "\n",
              "  for (const file of files) {\n",
              "    const li = document.createElement('li');\n",
              "    li.append(span(file.name, {fontWeight: 'bold'}));\n",
              "    li.append(span(\n",
              "        `(${file.type || 'n/a'}) - ${file.size} bytes, ` +\n",
              "        `last modified: ${\n",
              "            file.lastModifiedDate ? file.lastModifiedDate.toLocaleDateString() :\n",
              "                                    'n/a'} - `));\n",
              "    const percent = span('0% done');\n",
              "    li.appendChild(percent);\n",
              "\n",
              "    outputElement.appendChild(li);\n",
              "\n",
              "    const fileDataPromise = new Promise((resolve) => {\n",
              "      const reader = new FileReader();\n",
              "      reader.onload = (e) => {\n",
              "        resolve(e.target.result);\n",
              "      };\n",
              "      reader.readAsArrayBuffer(file);\n",
              "    });\n",
              "    // Wait for the data to be ready.\n",
              "    let fileData = yield {\n",
              "      promise: fileDataPromise,\n",
              "      response: {\n",
              "        action: 'continue',\n",
              "      }\n",
              "    };\n",
              "\n",
              "    // Use a chunked sending to avoid message size limits. See b/62115660.\n",
              "    let position = 0;\n",
              "    do {\n",
              "      const length = Math.min(fileData.byteLength - position, MAX_PAYLOAD_SIZE);\n",
              "      const chunk = new Uint8Array(fileData, position, length);\n",
              "      position += length;\n",
              "\n",
              "      const base64 = btoa(String.fromCharCode.apply(null, chunk));\n",
              "      yield {\n",
              "        response: {\n",
              "          action: 'append',\n",
              "          file: file.name,\n",
              "          data: base64,\n",
              "        },\n",
              "      };\n",
              "\n",
              "      let percentDone = fileData.byteLength === 0 ?\n",
              "          100 :\n",
              "          Math.round((position / fileData.byteLength) * 100);\n",
              "      percent.textContent = `${percentDone}% done`;\n",
              "\n",
              "    } while (position < fileData.byteLength);\n",
              "  }\n",
              "\n",
              "  // All done.\n",
              "  yield {\n",
              "    response: {\n",
              "      action: 'complete',\n",
              "    }\n",
              "  };\n",
              "}\n",
              "\n",
              "scope.google = scope.google || {};\n",
              "scope.google.colab = scope.google.colab || {};\n",
              "scope.google.colab._files = {\n",
              "  _uploadFiles,\n",
              "  _uploadFilesContinue,\n",
              "};\n",
              "})(self);\n",
              "</script> "
            ]
          },
          "metadata": {}
        },
        {
          "output_type": "stream",
          "name": "stdout",
          "text": [
            "Saving adult 3.csv to adult 3.csv\n"
          ]
        }
      ]
    },
    {
      "cell_type": "code",
      "source": [
        "import pandas as pd\n",
        "import numpy as np\n",
        "\n",
        "# View Shape\n",
        "print(\"Dataset Shape:\", df.shape)\n",
        "\n",
        "print(\"Sample Data (First 10 Rows of the original data set):\\n\")\n",
        "from tabulate import tabulate\n",
        "\n",
        "print(tabulate(df.head(10), headers='keys', tablefmt='pretty'))\n"
      ],
      "metadata": {
        "id": "5DhkvTQmcSyy",
        "colab": {
          "base_uri": "https://localhost:8080/"
        },
        "outputId": "552567dd-fb84-41e3-dd61-9d531c97809c"
      },
      "execution_count": 3,
      "outputs": [
        {
          "output_type": "stream",
          "name": "stdout",
          "text": [
            "Dataset Shape: (48842, 15)\n",
            "Sample Data (First 10 Rows of the original data set):\n",
            "\n",
            "+---+-----+------------------+--------+--------------+-----------------+--------------------+-------------------+---------------+-------+--------+--------------+--------------+----------------+----------------+--------+\n",
            "|   | age |    workclass     | fnlwgt |  education   | educational-num |   marital-status   |    occupation     | relationship  | race  | gender | capital-gain | capital-loss | hours-per-week | native-country | income |\n",
            "+---+-----+------------------+--------+--------------+-----------------+--------------------+-------------------+---------------+-------+--------+--------------+--------------+----------------+----------------+--------+\n",
            "| 0 | 25  |     Private      | 226802 |     11th     |        7        |   Never-married    | Machine-op-inspct |   Own-child   | Black |  Male  |      0       |      0       |       40       | United-States  | <=50K  |\n",
            "| 1 | 38  |     Private      | 89814  |   HS-grad    |        9        | Married-civ-spouse |  Farming-fishing  |    Husband    | White |  Male  |      0       |      0       |       50       | United-States  | <=50K  |\n",
            "| 2 | 28  |    Local-gov     | 336951 |  Assoc-acdm  |       12        | Married-civ-spouse |  Protective-serv  |    Husband    | White |  Male  |      0       |      0       |       40       | United-States  |  >50K  |\n",
            "| 3 | 44  |     Private      | 160323 | Some-college |       10        | Married-civ-spouse | Machine-op-inspct |    Husband    | Black |  Male  |     7688     |      0       |       40       | United-States  |  >50K  |\n",
            "| 4 | 18  |        ?         | 103497 | Some-college |       10        |   Never-married    |         ?         |   Own-child   | White | Female |      0       |      0       |       30       | United-States  | <=50K  |\n",
            "| 5 | 34  |     Private      | 198693 |     10th     |        6        |   Never-married    |   Other-service   | Not-in-family | White |  Male  |      0       |      0       |       30       | United-States  | <=50K  |\n",
            "| 6 | 29  |        ?         | 227026 |   HS-grad    |        9        |   Never-married    |         ?         |   Unmarried   | Black |  Male  |      0       |      0       |       40       | United-States  | <=50K  |\n",
            "| 7 | 63  | Self-emp-not-inc | 104626 | Prof-school  |       15        | Married-civ-spouse |  Prof-specialty   |    Husband    | White |  Male  |     3103     |      0       |       32       | United-States  |  >50K  |\n",
            "| 8 | 24  |     Private      | 369667 | Some-college |       10        |   Never-married    |   Other-service   |   Unmarried   | White | Female |      0       |      0       |       40       | United-States  | <=50K  |\n",
            "| 9 | 55  |     Private      | 104996 |   7th-8th    |        4        | Married-civ-spouse |   Craft-repair    |    Husband    | White |  Male  |      0       |      0       |       10       | United-States  | <=50K  |\n",
            "+---+-----+------------------+--------+--------------+-----------------+--------------------+-------------------+---------------+-------+--------+--------------+--------------+----------------+----------------+--------+\n"
          ]
        }
      ]
    },
    {
      "cell_type": "code",
      "source": [
        "# Class Distribution (Income >50K or <=50K)\n",
        "print(\"\\nIncome Distribution:\\n\\n\",df['income'].value_counts())\n"
      ],
      "metadata": {
        "colab": {
          "base_uri": "https://localhost:8080/"
        },
        "id": "zD32uGQt3yK0",
        "outputId": "6a626ff2-10d6-4bb6-8dc9-8cd1c1236cd1"
      },
      "execution_count": null,
      "outputs": [
        {
          "output_type": "stream",
          "name": "stdout",
          "text": [
            "\n",
            "Income Distribution:\n",
            "\n",
            " income\n",
            "<=50K    37155\n",
            ">50K     11687\n",
            "Name: count, dtype: int64\n"
          ]
        }
      ]
    },
    {
      "cell_type": "code",
      "source": [
        "print(\"Columns and Their Data Types:\\n\")\n",
        "for col in df.columns:\n",
        "    print(f\"{col} : {df[col].dtype}\")"
      ],
      "metadata": {
        "colab": {
          "base_uri": "https://localhost:8080/"
        },
        "id": "KVSCm98z4C0k",
        "outputId": "a3a9d716-9422-40d2-e1a9-e2b1d8dff94a"
      },
      "execution_count": null,
      "outputs": [
        {
          "output_type": "stream",
          "name": "stdout",
          "text": [
            "Columns and Their Data Types:\n",
            "\n",
            "age : int64\n",
            "workclass : object\n",
            "fnlwgt : int64\n",
            "education : object\n",
            "educational-num : int64\n",
            "marital-status : object\n",
            "occupation : object\n",
            "relationship : object\n",
            "race : object\n",
            "gender : object\n",
            "capital-gain : int64\n",
            "capital-loss : int64\n",
            "hours-per-week : int64\n",
            "native-country : object\n",
            "income : object\n"
          ]
        }
      ]
    },
    {
      "cell_type": "code",
      "source": [
        "print(\"Missing Values in Each Column (NaN only):\\n\")\n",
        "print(df.isnull().sum())\n"
      ],
      "metadata": {
        "colab": {
          "base_uri": "https://localhost:8080/"
        },
        "id": "MNZ6Kqsn4IF0",
        "outputId": "e2e4d87b-b086-4ceb-aea3-bf10b60f60f0"
      },
      "execution_count": null,
      "outputs": [
        {
          "output_type": "stream",
          "name": "stdout",
          "text": [
            "Missing Values in Each Column (NaN only):\n",
            "\n",
            "age                0\n",
            "workclass          0\n",
            "fnlwgt             0\n",
            "education          0\n",
            "educational-num    0\n",
            "marital-status     0\n",
            "occupation         0\n",
            "relationship       0\n",
            "race               0\n",
            "gender             0\n",
            "capital-gain       0\n",
            "capital-loss       0\n",
            "hours-per-week     0\n",
            "native-country     0\n",
            "income             0\n",
            "dtype: int64\n"
          ]
        }
      ]
    },
    {
      "cell_type": "code",
      "source": [
        "print(\"Value Counts for All Columns:\\n\")\n",
        "\n",
        "for col in df.columns:\n",
        "    print(f\"\\n--- {col} ---\")\n",
        "    print(df[col].value_counts())"
      ],
      "metadata": {
        "colab": {
          "base_uri": "https://localhost:8080/"
        },
        "id": "1uzpEbbS4ZuB",
        "outputId": "0d51258f-f7b5-4fd2-f2e8-c653fc8020b3"
      },
      "execution_count": null,
      "outputs": [
        {
          "output_type": "stream",
          "name": "stdout",
          "text": [
            "Value Counts for All Columns:\n",
            "\n",
            "\n",
            "--- age ---\n",
            "age\n",
            "36    1348\n",
            "35    1337\n",
            "33    1335\n",
            "23    1329\n",
            "31    1325\n",
            "      ... \n",
            "88       6\n",
            "85       5\n",
            "87       3\n",
            "89       2\n",
            "86       1\n",
            "Name: count, Length: 74, dtype: int64\n",
            "\n",
            "--- workclass ---\n",
            "workclass\n",
            "Private             33906\n",
            "Self-emp-not-inc     3862\n",
            "Local-gov            3136\n",
            "?                    2799\n",
            "State-gov            1981\n",
            "Self-emp-inc         1695\n",
            "Federal-gov          1432\n",
            "Without-pay            21\n",
            "Never-worked           10\n",
            "Name: count, dtype: int64\n",
            "\n",
            "--- fnlwgt ---\n",
            "fnlwgt\n",
            "203488    21\n",
            "190290    19\n",
            "120277    19\n",
            "125892    18\n",
            "126569    18\n",
            "          ..\n",
            "436163     1\n",
            "320084     1\n",
            "125976     1\n",
            "211349     1\n",
            "120478     1\n",
            "Name: count, Length: 28523, dtype: int64\n",
            "\n",
            "--- education ---\n",
            "education\n",
            "HS-grad         15784\n",
            "Some-college    10878\n",
            "Bachelors        8025\n",
            "Masters          2657\n",
            "Assoc-voc        2061\n",
            "11th             1812\n",
            "Assoc-acdm       1601\n",
            "10th             1389\n",
            "7th-8th           955\n",
            "Prof-school       834\n",
            "9th               756\n",
            "12th              657\n",
            "Doctorate         594\n",
            "5th-6th           509\n",
            "1st-4th           247\n",
            "Preschool          83\n",
            "Name: count, dtype: int64\n",
            "\n",
            "--- educational-num ---\n",
            "educational-num\n",
            "9     15784\n",
            "10    10878\n",
            "13     8025\n",
            "14     2657\n",
            "11     2061\n",
            "7      1812\n",
            "12     1601\n",
            "6      1389\n",
            "4       955\n",
            "15      834\n",
            "5       756\n",
            "8       657\n",
            "16      594\n",
            "3       509\n",
            "2       247\n",
            "1        83\n",
            "Name: count, dtype: int64\n",
            "\n",
            "--- marital-status ---\n",
            "marital-status\n",
            "Married-civ-spouse       22379\n",
            "Never-married            16117\n",
            "Divorced                  6633\n",
            "Separated                 1530\n",
            "Widowed                   1518\n",
            "Married-spouse-absent      628\n",
            "Married-AF-spouse           37\n",
            "Name: count, dtype: int64\n",
            "\n",
            "--- occupation ---\n",
            "occupation\n",
            "Prof-specialty       6172\n",
            "Craft-repair         6112\n",
            "Exec-managerial      6086\n",
            "Adm-clerical         5611\n",
            "Sales                5504\n",
            "Other-service        4923\n",
            "Machine-op-inspct    3022\n",
            "?                    2809\n",
            "Transport-moving     2355\n",
            "Handlers-cleaners    2072\n",
            "Farming-fishing      1490\n",
            "Tech-support         1446\n",
            "Protective-serv       983\n",
            "Priv-house-serv       242\n",
            "Armed-Forces           15\n",
            "Name: count, dtype: int64\n",
            "\n",
            "--- relationship ---\n",
            "relationship\n",
            "Husband           19716\n",
            "Not-in-family     12583\n",
            "Own-child          7581\n",
            "Unmarried          5125\n",
            "Wife               2331\n",
            "Other-relative     1506\n",
            "Name: count, dtype: int64\n",
            "\n",
            "--- race ---\n",
            "race\n",
            "White                 41762\n",
            "Black                  4685\n",
            "Asian-Pac-Islander     1519\n",
            "Amer-Indian-Eskimo      470\n",
            "Other                   406\n",
            "Name: count, dtype: int64\n",
            "\n",
            "--- gender ---\n",
            "gender\n",
            "Male      32650\n",
            "Female    16192\n",
            "Name: count, dtype: int64\n",
            "\n",
            "--- capital-gain ---\n",
            "capital-gain\n",
            "0        44807\n",
            "15024      513\n",
            "7688       410\n",
            "7298       364\n",
            "99999      244\n",
            "         ...  \n",
            "6612         1\n",
            "1111         1\n",
            "22040        1\n",
            "1639         1\n",
            "2387         1\n",
            "Name: count, Length: 123, dtype: int64\n",
            "\n",
            "--- capital-loss ---\n",
            "capital-loss\n",
            "0       46560\n",
            "1902      304\n",
            "1977      253\n",
            "1887      233\n",
            "2415       72\n",
            "        ...  \n",
            "1539        1\n",
            "2489        1\n",
            "2080        1\n",
            "155         1\n",
            "2201        1\n",
            "Name: count, Length: 99, dtype: int64\n",
            "\n",
            "--- hours-per-week ---\n",
            "hours-per-week\n",
            "40    22803\n",
            "50     4246\n",
            "45     2717\n",
            "60     2177\n",
            "35     1937\n",
            "      ...  \n",
            "79        1\n",
            "94        1\n",
            "87        1\n",
            "69        1\n",
            "82        1\n",
            "Name: count, Length: 96, dtype: int64\n",
            "\n",
            "--- native-country ---\n",
            "native-country\n",
            "United-States                 43832\n",
            "Mexico                          951\n",
            "?                               857\n",
            "Philippines                     295\n",
            "Germany                         206\n",
            "Puerto-Rico                     184\n",
            "Canada                          182\n",
            "El-Salvador                     155\n",
            "India                           151\n",
            "Cuba                            138\n",
            "England                         127\n",
            "China                           122\n",
            "South                           115\n",
            "Jamaica                         106\n",
            "Italy                           105\n",
            "Dominican-Republic              103\n",
            "Japan                            92\n",
            "Guatemala                        88\n",
            "Poland                           87\n",
            "Vietnam                          86\n",
            "Columbia                         85\n",
            "Haiti                            75\n",
            "Portugal                         67\n",
            "Taiwan                           65\n",
            "Iran                             59\n",
            "Nicaragua                        49\n",
            "Greece                           49\n",
            "Peru                             46\n",
            "Ecuador                          45\n",
            "France                           38\n",
            "Ireland                          37\n",
            "Thailand                         30\n",
            "Hong                             30\n",
            "Cambodia                         28\n",
            "Trinadad&Tobago                  27\n",
            "Laos                             23\n",
            "Outlying-US(Guam-USVI-etc)       23\n",
            "Yugoslavia                       23\n",
            "Scotland                         21\n",
            "Honduras                         20\n",
            "Hungary                          19\n",
            "Holand-Netherlands                1\n",
            "Name: count, dtype: int64\n",
            "\n",
            "--- income ---\n",
            "income\n",
            "<=50K    37155\n",
            ">50K     11687\n",
            "Name: count, dtype: int64\n"
          ]
        }
      ]
    },
    {
      "cell_type": "code",
      "source": [
        "import pandas as pd\n",
        "import numpy as np\n",
        "from sklearn.model_selection import train_test_split\n",
        "from sklearn.preprocessing import LabelEncoder, StandardScaler\n",
        "from sklearn.ensemble import RandomForestClassifier\n",
        "from sklearn.metrics import accuracy_score, classification_report, roc_auc_score\n",
        "import joblib\n",
        "\n",
        "# Load data\n",
        "df = pd.read_csv(\"adult 3.csv\")\n",
        "\n",
        "# Replace ' ?' with specific values in categorical columns\n",
        "df['workclass'] = df['workclass'].replace(' ?', 'Other')\n",
        "df['occupation'] = df['occupation'].replace(' ?', 'Other')\n",
        "df['native-country'] = df['native-country'].replace(' ?', 'Not Listed')\n",
        "\n",
        "\n",
        "# Drop unnecessary columns safely\n",
        "df.drop(columns=['fnlwgt'], inplace=True, errors='ignore')\n",
        "df.drop(columns=['education'], inplace=True, errors='ignore')\n",
        "\n",
        "# Convert income to binary\n",
        "df['income'] = df['income'].apply(lambda x: 1 if x.strip() == '>50K' else 0)\n",
        "\n",
        "# Label Encoding for specific categorical columns\n",
        "categorical_cols = ['workclass', 'marital-status', 'occupation',\n",
        "                    'relationship', 'race', 'gender', 'native-country']\n",
        "\n",
        "label_encoders = {}\n",
        "for col in categorical_cols:\n",
        "    le = LabelEncoder()\n",
        "    df[col] = le.fit_transform(df[col])\n",
        "    label_encoders[col] = le\n",
        "\n",
        "# Features and Target\n",
        "X = df.drop('income', axis=1)\n",
        "y = df['income']\n",
        "\n",
        "# Scale numerical features\n",
        "scaler = StandardScaler()\n",
        "X_scaled = scaler.fit_transform(X)\n",
        "\n",
        "# Split data\n",
        "X_train, X_test, y_train, y_test = train_test_split(X_scaled, y, test_size=0.2, random_state=42)\n",
        "\n",
        "# Train model\n",
        "model = RandomForestClassifier(n_estimators=100, random_state=42, class_weight=\"balanced\")\n",
        "model.fit(X_train, y_train)\n",
        "\n",
        "# Predictions\n",
        "preds = model.predict(X_test)\n",
        "preds_proba = model.predict_proba(X_test)[:, 1]\n",
        "\n",
        "# Evaluation\n",
        "print(\"Accuracy:\", accuracy_score(y_test, preds))\n",
        "print(\"ROC AUC:\", roc_auc_score(y_test, preds_proba))\n",
        "print(\"Classification Report:\\n\", classification_report(y_test, preds))\n"
      ],
      "metadata": {
        "colab": {
          "base_uri": "https://localhost:8080/"
        },
        "id": "JTaUrtAw4c6V",
        "outputId": "2be38330-0dac-4ce1-f355-079d49d11ebb"
      },
      "execution_count": null,
      "outputs": [
        {
          "output_type": "stream",
          "name": "stdout",
          "text": [
            "Accuracy: 0.8543351417750026\n",
            "ROC AUC: 0.9045566596659874\n",
            "Classification Report:\n",
            "               precision    recall  f1-score   support\n",
            "\n",
            "           0       0.90      0.91      0.91      7479\n",
            "           1       0.70      0.67      0.68      2290\n",
            "\n",
            "    accuracy                           0.85      9769\n",
            "   macro avg       0.80      0.79      0.79      9769\n",
            "weighted avg       0.85      0.85      0.85      9769\n",
            "\n"
          ]
        }
      ]
    },
    {
      "cell_type": "code",
      "source": [
        "# Save model, scaler, and encoders\n",
        "joblib.dump(model, \"model.pkl\")\n",
        "joblib.dump(scaler, \"scaler.pkl\")\n",
        "joblib.dump(label_encoders, \"encoders.pkl\")\n",
        "\n",
        "# Download in Colab (optional)\n",
        "from google.colab import files\n",
        "files.download(\"model.pkl\")\n",
        "files.download(\"scaler.pkl\")\n",
        "files.download(\"encoders.pkl\")"
      ],
      "metadata": {
        "colab": {
          "base_uri": "https://localhost:8080/",
          "height": 17
        },
        "id": "I7BvSn2e4mvb",
        "outputId": "36426a2a-8687-4fa7-8b1a-bec1383c96b0"
      },
      "execution_count": null,
      "outputs": [
        {
          "output_type": "display_data",
          "data": {
            "text/plain": [
              "<IPython.core.display.Javascript object>"
            ],
            "application/javascript": [
              "\n",
              "    async function download(id, filename, size) {\n",
              "      if (!google.colab.kernel.accessAllowed) {\n",
              "        return;\n",
              "      }\n",
              "      const div = document.createElement('div');\n",
              "      const label = document.createElement('label');\n",
              "      label.textContent = `Downloading \"${filename}\": `;\n",
              "      div.appendChild(label);\n",
              "      const progress = document.createElement('progress');\n",
              "      progress.max = size;\n",
              "      div.appendChild(progress);\n",
              "      document.body.appendChild(div);\n",
              "\n",
              "      const buffers = [];\n",
              "      let downloaded = 0;\n",
              "\n",
              "      const channel = await google.colab.kernel.comms.open(id);\n",
              "      // Send a message to notify the kernel that we're ready.\n",
              "      channel.send({})\n",
              "\n",
              "      for await (const message of channel.messages) {\n",
              "        // Send a message to notify the kernel that we're ready.\n",
              "        channel.send({})\n",
              "        if (message.buffers) {\n",
              "          for (const buffer of message.buffers) {\n",
              "            buffers.push(buffer);\n",
              "            downloaded += buffer.byteLength;\n",
              "            progress.value = downloaded;\n",
              "          }\n",
              "        }\n",
              "      }\n",
              "      const blob = new Blob(buffers, {type: 'application/binary'});\n",
              "      const a = document.createElement('a');\n",
              "      a.href = window.URL.createObjectURL(blob);\n",
              "      a.download = filename;\n",
              "      div.appendChild(a);\n",
              "      a.click();\n",
              "      div.remove();\n",
              "    }\n",
              "  "
            ]
          },
          "metadata": {}
        },
        {
          "output_type": "display_data",
          "data": {
            "text/plain": [
              "<IPython.core.display.Javascript object>"
            ],
            "application/javascript": [
              "download(\"download_99aab35a-2698-4bad-8d87-166d5f0a0d54\", \"model.pkl\", 100722905)"
            ]
          },
          "metadata": {}
        },
        {
          "output_type": "display_data",
          "data": {
            "text/plain": [
              "<IPython.core.display.Javascript object>"
            ],
            "application/javascript": [
              "\n",
              "    async function download(id, filename, size) {\n",
              "      if (!google.colab.kernel.accessAllowed) {\n",
              "        return;\n",
              "      }\n",
              "      const div = document.createElement('div');\n",
              "      const label = document.createElement('label');\n",
              "      label.textContent = `Downloading \"${filename}\": `;\n",
              "      div.appendChild(label);\n",
              "      const progress = document.createElement('progress');\n",
              "      progress.max = size;\n",
              "      div.appendChild(progress);\n",
              "      document.body.appendChild(div);\n",
              "\n",
              "      const buffers = [];\n",
              "      let downloaded = 0;\n",
              "\n",
              "      const channel = await google.colab.kernel.comms.open(id);\n",
              "      // Send a message to notify the kernel that we're ready.\n",
              "      channel.send({})\n",
              "\n",
              "      for await (const message of channel.messages) {\n",
              "        // Send a message to notify the kernel that we're ready.\n",
              "        channel.send({})\n",
              "        if (message.buffers) {\n",
              "          for (const buffer of message.buffers) {\n",
              "            buffers.push(buffer);\n",
              "            downloaded += buffer.byteLength;\n",
              "            progress.value = downloaded;\n",
              "          }\n",
              "        }\n",
              "      }\n",
              "      const blob = new Blob(buffers, {type: 'application/binary'});\n",
              "      const a = document.createElement('a');\n",
              "      a.href = window.URL.createObjectURL(blob);\n",
              "      a.download = filename;\n",
              "      div.appendChild(a);\n",
              "      a.click();\n",
              "      div.remove();\n",
              "    }\n",
              "  "
            ]
          },
          "metadata": {}
        },
        {
          "output_type": "display_data",
          "data": {
            "text/plain": [
              "<IPython.core.display.Javascript object>"
            ],
            "application/javascript": [
              "download(\"download_379a90e0-75ef-4f46-b6ba-5af9c7ddcff7\", \"scaler.pkl\", 1319)"
            ]
          },
          "metadata": {}
        },
        {
          "output_type": "display_data",
          "data": {
            "text/plain": [
              "<IPython.core.display.Javascript object>"
            ],
            "application/javascript": [
              "\n",
              "    async function download(id, filename, size) {\n",
              "      if (!google.colab.kernel.accessAllowed) {\n",
              "        return;\n",
              "      }\n",
              "      const div = document.createElement('div');\n",
              "      const label = document.createElement('label');\n",
              "      label.textContent = `Downloading \"${filename}\": `;\n",
              "      div.appendChild(label);\n",
              "      const progress = document.createElement('progress');\n",
              "      progress.max = size;\n",
              "      div.appendChild(progress);\n",
              "      document.body.appendChild(div);\n",
              "\n",
              "      const buffers = [];\n",
              "      let downloaded = 0;\n",
              "\n",
              "      const channel = await google.colab.kernel.comms.open(id);\n",
              "      // Send a message to notify the kernel that we're ready.\n",
              "      channel.send({})\n",
              "\n",
              "      for await (const message of channel.messages) {\n",
              "        // Send a message to notify the kernel that we're ready.\n",
              "        channel.send({})\n",
              "        if (message.buffers) {\n",
              "          for (const buffer of message.buffers) {\n",
              "            buffers.push(buffer);\n",
              "            downloaded += buffer.byteLength;\n",
              "            progress.value = downloaded;\n",
              "          }\n",
              "        }\n",
              "      }\n",
              "      const blob = new Blob(buffers, {type: 'application/binary'});\n",
              "      const a = document.createElement('a');\n",
              "      a.href = window.URL.createObjectURL(blob);\n",
              "      a.download = filename;\n",
              "      div.appendChild(a);\n",
              "      a.click();\n",
              "      div.remove();\n",
              "    }\n",
              "  "
            ]
          },
          "metadata": {}
        },
        {
          "output_type": "display_data",
          "data": {
            "text/plain": [
              "<IPython.core.display.Javascript object>"
            ],
            "application/javascript": [
              "download(\"download_ed4e0506-8889-4b57-8e1c-4c412935c779\", \"encoders.pkl\", 2903)"
            ]
          },
          "metadata": {}
        }
      ]
    },
    {
      "cell_type": "code",
      "source": [
        "# View Shape\n",
        "print(\"Dataset Shape:\", df.shape)\n",
        "\n",
        "print(\"Sample Data (First 10 Rows) after encoding and processing:\\n\")\n",
        "from tabulate import tabulate\n",
        "\n",
        "print(tabulate(df.head(10), headers='keys', tablefmt='pretty'))\n"
      ],
      "metadata": {
        "colab": {
          "base_uri": "https://localhost:8080/"
        },
        "id": "iU52pqS34tul",
        "outputId": "b6635809-5a4b-4708-cdf9-8d55c2d4fbd4"
      },
      "execution_count": null,
      "outputs": [
        {
          "output_type": "stream",
          "name": "stdout",
          "text": [
            "Dataset Shape: (48842, 13)\n",
            "Sample Data (First 10 Rows) after encoding and processing:\n",
            "\n",
            "+---+-----+-----------+-----------------+----------------+------------+--------------+------+--------+--------------+--------------+----------------+----------------+--------+\n",
            "|   | age | workclass | educational-num | marital-status | occupation | relationship | race | gender | capital-gain | capital-loss | hours-per-week | native-country | income |\n",
            "+---+-----+-----------+-----------------+----------------+------------+--------------+------+--------+--------------+--------------+----------------+----------------+--------+\n",
            "| 0 | 25  |     4     |        7        |       4        |     7      |      3       |  2   |   1    |      0       |      0       |       40       |       39       |   0    |\n",
            "| 1 | 38  |     4     |        9        |       2        |     5      |      0       |  4   |   1    |      0       |      0       |       50       |       39       |   0    |\n",
            "| 2 | 28  |     2     |       12        |       2        |     11     |      0       |  4   |   1    |      0       |      0       |       40       |       39       |   1    |\n",
            "| 3 | 44  |     4     |       10        |       2        |     7      |      0       |  2   |   1    |     7688     |      0       |       40       |       39       |   1    |\n",
            "| 4 | 18  |     0     |       10        |       4        |     0      |      3       |  4   |   0    |      0       |      0       |       30       |       39       |   0    |\n",
            "| 5 | 34  |     4     |        6        |       4        |     8      |      1       |  4   |   1    |      0       |      0       |       30       |       39       |   0    |\n",
            "| 6 | 29  |     0     |        9        |       4        |     0      |      4       |  2   |   1    |      0       |      0       |       40       |       39       |   0    |\n",
            "| 7 | 63  |     6     |       15        |       2        |     10     |      0       |  4   |   1    |     3103     |      0       |       32       |       39       |   1    |\n",
            "| 8 | 24  |     4     |       10        |       4        |     8      |      4       |  4   |   0    |      0       |      0       |       40       |       39       |   0    |\n",
            "| 9 | 55  |     4     |        4        |       2        |     3      |      0       |  4   |   1    |      0       |      0       |       10       |       39       |   0    |\n",
            "+---+-----+-----------+-----------------+----------------+------------+--------------+------+--------+--------------+--------------+----------------+----------------+--------+\n"
          ]
        }
      ]
    },
    {
      "cell_type": "code",
      "source": [
        "import matplotlib.pyplot as plt\n",
        "import seaborn as sns\n",
        "from sklearn.metrics import confusion_matrix, roc_curve, precision_recall_curve, auc\n",
        "# Compute confusion matrix\n",
        "cm = confusion_matrix(y_test, preds)\n",
        "\n",
        "# Plot confusion matrix\n",
        "plt.figure(figsize=(6,5))\n",
        "sns.heatmap(cm, annot=True, fmt='d', cmap='Blues', cbar=False)\n",
        "plt.title('Confusion Matrix')\n",
        "plt.xlabel('Predicted')\n",
        "plt.ylabel('Actual')\n",
        "plt.show()"
      ],
      "metadata": {
        "colab": {
          "base_uri": "https://localhost:8080/",
          "height": 487
        },
        "id": "v__QMe-A5HeI",
        "outputId": "005bb24c-ca43-49ff-86e7-43134fd3ddac"
      },
      "execution_count": null,
      "outputs": [
        {
          "output_type": "display_data",
          "data": {
            "text/plain": [
              "<Figure size 600x500 with 1 Axes>"
            ],
            "image/png": "[encoded data removed]"
          },
          "metadata": {}
        }
      ]
    },
    {
      "cell_type": "code",
      "source": [
        "# Get ROC curve values\n",
        "fpr, tpr, thresholds = roc_curve(y_test, preds_proba)\n",
        "roc_auc = auc(fpr, tpr)\n",
        "\n",
        "# Plot ROC Curve\n",
        "plt.figure(figsize=(6,5))\n",
        "plt.plot(fpr, tpr, label=f'AUC = {roc_auc:.3f}', color='darkorange')\n",
        "plt.plot([0,1], [0,1], 'k--', label='Random Guess')\n",
        "plt.xlabel('False Positive Rate')\n",
        "plt.ylabel('True Positive Rate')\n",
        "plt.title('ROC Curve')\n",
        "plt.legend(loc='lower right')\n",
        "plt.show()\n"
      ],
      "metadata": {
        "colab": {
          "base_uri": "https://localhost:8080/",
          "height": 487
        },
        "id": "9I84Kado5LoF",
        "outputId": "9121b8c7-a9d1-494b-d81d-59dd596062bc"
      },
      "execution_count": null,
      "outputs": [
        {
          "output_type": "display_data",
          "data": {
            "text/plain": [
              "<Figure size 600x500 with 1 Axes>"
            ],
            "image/png": "[encoded data removed]"
          },
          "metadata": {}
        }
      ]
    },
    {
      "cell_type": "code",
      "source": [
        "# Get Precision-Recall curve values\n",
        "precision, recall, thresholds = precision_recall_curve(y_test, preds_proba)\n",
        "pr_auc = auc(recall, precision)\n",
        "\n",
        "# Plot Precision-Recall Curve\n",
        "plt.figure(figsize=(6,5))\n",
        "plt.plot(recall, precision, label=f'AUC = {pr_auc:.3f}', color='green')\n",
        "plt.xlabel('Recall')\n",
        "plt.ylabel('Precision')\n",
        "plt.title('Precision-Recall Curve')\n",
        "plt.legend(loc='lower left')\n",
        "plt.show()\n"
      ],
      "metadata": {
        "colab": {
          "base_uri": "https://localhost:8080/",
          "height": 487
        },
        "id": "tniV_Mqg5O0V",
        "outputId": "2799f4fc-e166-4354-e7b0-20810da7f959"
      },
      "execution_count": null,
      "outputs": [
        {
          "output_type": "display_data",
          "data": {
            "text/plain": [
              "<Figure size 600x500 with 1 Axes>"
            ],
            "image/png": "[encoded data removed]"
          },
          "metadata": {}
        }
      ]
    },
    {
      "cell_type": "code",
      "source": [
        "import pandas as pd\n",
        "import matplotlib.pyplot as plt\n",
        "import seaborn as sns\n",
        "\n",
        "feature_names = X.columns\n",
        "importances = model.feature_importances_\n",
        "\n",
        "# Create a DataFrame for visualization\n",
        "feat_importance = pd.DataFrame({\n",
        "    'Feature': feature_names,\n",
        "    'Importance': importances\n",
        "}).sort_values(by='Importance', ascending=False)\n",
        "\n",
        "# Plot feature importance\n",
        "plt.figure(figsize=(10,6))\n",
        "sns.barplot(x='Importance', y='Feature', data=feat_importance, palette='Blues_r')\n",
        "plt.title('Feature Importance')\n",
        "plt.xlabel('Importance')\n",
        "plt.ylabel('Feature')\n",
        "plt.legend([],[], frameon=False)  # Remove legend\n",
        "plt.show()\n"
      ],
      "metadata": {
        "colab": {
          "base_uri": "https://localhost:8080/",
          "height": 651
        },
        "id": "CPUGWcP85Xrh",
        "outputId": "a6839dad-c04a-47f7-c1c0-070b619bcb56"
      },
      "execution_count": null,
      "outputs": [
        {
          "output_type": "stream",
          "name": "stderr",
          "text": [
            "/tmp/ipython-input-20-489301300.py:16: FutureWarning: \n",
            "\n",
            "Passing `palette` without assigning `hue` is deprecated and will be removed in v0.14.0. Assign the `y` variable to `hue` and set `legend=False` for the same effect.\n",
            "\n",
            "  sns.barplot(x='Importance', y='Feature', data=feat_importance, palette='Blues_r')\n"
          ]
        },
        {
          "output_type": "display_data",
          "data": {
            "text/plain": [
              "<Figure size 1000x600 with 1 Axes>"
            ],
            "image/png": "[encoded data removed]"
          },
          "metadata": {}
        }
      ]
    },
    {
      "cell_type": "code",
      "source": [
        "plt.figure(figsize=(6,8))\n",
        "sns.heatmap(feat_importance.set_index('Feature'), annot=True, cmap='viridis', cbar=True)\n",
        "plt.title('Feature Importance (Heatmap)')\n",
        "plt.show()\n",
        "\n"
      ],
      "metadata": {
        "colab": {
          "base_uri": "https://localhost:8080/",
          "height": 699
        },
        "id": "GNvPIF3Y6KGT",
        "outputId": "5bbde3ab-d537-4d84-f06b-c7ca2d20dbce"
      },
      "execution_count": null,
      "outputs": [
        {
          "output_type": "display_data",
          "data": {
            "text/plain": [
              "<Figure size 600x800 with 2 Axes>"
            ],
            "image/png": "[encoded data removed]"
          },
          "metadata": {}
        }
      ]
    }
  ],
  "metadata": {
    "colab": {
      "provenance": []
    },
    "kernelspec": {
      "display_name": "Python 3",
      "name": "python3"
    },
    "language_info": {
      "name": "python"
    }
  },
  "nbformat": 4,
  "nbformat_minor": 0
}